{
 "cells": [
  {
   "cell_type": "code",
   "execution_count": 8,
   "metadata": {},
   "outputs": [
    {
     "name": "stdout",
     "output_type": "stream",
     "text": [
      "\n",
      "Result_updated: \n",
      "     ID  Ass1  Ass2  Ass3   Ass4  Exam   Total  Final Grade\n",
      "0    1  89.1  50.0  85.0   88.9    65  68.540     68     C\n",
      "1    2  95.1  82.5  90.5   94.5    52  67.030     67     C\n",
      "2    3  74.3  54.4  63.0   63.9    31  43.210     43     N\n",
      "3    4  89.8  81.3  82.0   90.4    37  56.545     44     N\n",
      "4    5  91.3  98.8  92.5   95.9    79  85.795     85    HD\n",
      "..  ..   ...   ...   ...    ...   ...     ...    ...   ...\n",
      "86  87  71.8  95.0  70.0   98.6    49  65.530     65     C\n",
      "87  88  96.0  97.6  65.0  100.0    76  83.290     83    HD\n",
      "88  89  91.8  66.3  79.0   95.8    62  70.055     70     D\n",
      "89  90  78.7  50.0  75.0   95.8    56  63.155     63     C\n",
      "90  91  55.7  82.5  66.0   81.9    49  60.145     60     C\n",
      "\n",
      "[91 rows x 9 columns]\n",
      "\n",
      "Student with exam score < 48 \n",
      "     ID  Ass1  Ass2  Ass3  Ass4  Exam   Total  Final Grade\n",
      "2    3  74.3  54.4  63.0  63.9    31  43.210     43     N\n",
      "3    4  89.8  81.3  82.0  90.4    37  56.545     44     N\n",
      "14  15  66.3  53.7  53.0  81.9    30  44.305     44     N\n",
      "23  24  57.7  76.3  71.0  87.7    35  52.035     44     N\n",
      "24  25  84.7  65.0  73.0  88.9    34  51.370     44     N\n",
      "25  26  84.7  53.8  75.0  78.1    36  49.370     44     N\n",
      "32  33  64.2  50.0  18.0   0.0     0  11.610     11     N\n",
      "41  42  81.5  43.8   0.0   0.0     0  10.645     10     N\n",
      "43  44  71.9  61.3  76.0  94.5    38  53.565     44     N\n",
      "46  47  50.0  71.3  56.0  93.8    34  50.465     44     N\n",
      "53  54  76.1  50.0  50.0  50.0    33  41.105     41     N\n",
      "59  60  73.9  53.2  74.0  95.9    34  50.160     44     N\n",
      "77  78  52.9  53.2  50.0  50.0    36  42.225     42     N\n",
      "\n",
      "Student with exam score > 100 \n",
      "     ID  Ass1   Ass2  Ass3   Ass4  Exam  Total  Final Grade\n",
      "10  11  96.6  100.0  98.0   97.3   102  100.0    100    HD\n",
      "83  84  93.6  100.0  96.0  100.0   106  100.0    100    HD\n"
     ]
    }
   ],
   "source": [
    "import pandas as pd #install pandas package\n",
    "import numpy as np\n",
    " \n",
    "result = pd.read_csv('result_withoutTotal.csv') # read the csv file\n",
    "df = pd.DataFrame(result) # create the dataframe\n",
    "\n",
    "df['Total'] = ((0.05*(df['Ass1']+df['Ass3']))+(0.15*(df['Ass2']+df['Ass4']))+0.6*df['Exam']) # calculating total marks and form new column\n",
    "\n",
    "df.loc[df['Total'] >= 100, 'Total'] = 100 # aasign 100 marks when marks exceed above 100\n",
    "\n",
    "df.loc[(df['Total'] >= 50) & (df['Exam'] >= 48), 'Final'] = df['Total'] # condition Total >= 50 and Exam >= 48\n",
    "df.loc[(df['Total'] < 50) & (df['Exam'] < 48), 'Final'] = 44 # condition Total < 50 and Exam < 48\n",
    "df.loc[(df['Total'] >= 50) & (df['Exam'] < 48), 'Final'] = 44 # condition Total >= 50 and Exam < 48\n",
    "df.loc[(df['Total'] < 44), 'Final'] = df['Total'] # condition Total < 44\n",
    "\n",
    "df['Final'] = df['Final'].apply(np.int64) # covert final column into integer format\n",
    "\n",
    "df.loc[(df['Final'] <= 49.45), 'Grade'] = 'N' # Grading conditions\n",
    "df.loc[(df['Final'] > 49.45) & (df['Final'] <= 59.45), 'Grade'] = 'P' # Grading conditions\n",
    "df.loc[(df['Final'] > 59.45) & (df['Final'] <= 69.45), 'Grade'] = 'C' # Grading conditions\n",
    "df.loc[(df['Final'] > 69.45) & (df['Final'] <= 79.45), 'Grade'] = 'D' # Grading conditions\n",
    "df.loc[(df['Final'] > 79.45), 'Grade'] = 'HD'\n",
    "\n",
    "df.to_csv('result_updated.csv') # convert the dataframe into csv file format\n",
    "print ('\\nResult_updated: \\n',df) # print the updated result\n",
    "\n",
    "rslt_df_48 = df[df['Exam'] < 48]  # condition for failed hurdle\n",
    "rslt_df_48.to_csv('failedhurdle.csv') # convert the dataframe into csv file format\n",
    "print('\\nStudent with exam score < 48 \\n', rslt_df_48)  # print failed hurdle list\n",
    "\n",
    "rslt_df_100 = df[df['Exam'] > 100] # condition for exam marks greater than 100\n",
    "print('\\nStudent with exam score > 100 \\n', rslt_df_100) # exam marks greater than 100 list"
   ]
  },
  {
   "cell_type": "code",
   "execution_count": null,
   "metadata": {},
   "outputs": [],
   "source": []
  }
 ],
 "metadata": {
  "kernelspec": {
   "display_name": "Python 3",
   "language": "python",
   "name": "python3"
  },
  "language_info": {
   "codemirror_mode": {
    "name": "ipython",
    "version": 3
   },
   "file_extension": ".py",
   "mimetype": "text/x-python",
   "name": "python",
   "nbconvert_exporter": "python",
   "pygments_lexer": "ipython3",
   "version": "3.6.10"
  }
 },
 "nbformat": 4,
 "nbformat_minor": 4
}
