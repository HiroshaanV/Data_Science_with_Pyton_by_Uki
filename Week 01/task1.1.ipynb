{
 "cells": [
  {
   "cell_type": "code",
   "execution_count": 15,
   "metadata": {},
   "outputs": [
    {
     "name": "stdout",
     "output_type": "stream",
     "text": [
      "My Dayslist:  <class 'list'>\n",
      "Monday\n",
      "Tuesday\n",
      "Wednesday\n",
      "Thursday\n",
      "Friday\n",
      "Saturday\n",
      "Sunday\n",
      "My Daystuple:  <class 'tuple'>\n",
      "Monday\n",
      "Tuesday\n",
      "Wednesday\n",
      "Thursday\n",
      "Friday\n",
      "Saturday\n",
      "Sunday\n",
      "My Daysset:  <class 'set'>\n",
      "Friday\n",
      "Saturday\n",
      "Wednesday\n",
      "Sunday\n",
      "Thursday\n",
      "Tuesday\n",
      "Monday\n",
      "My Daysdict:  <class 'dict'>\n",
      "Monday\n",
      "Tuesday\n",
      "Wednesday\n",
      "Thursday\n",
      "Friday\n",
      "Saturday\n",
      "Sunday\n"
     ]
    }
   ],
   "source": [
    "#create a list for days. \n",
    "My_Dayslist = [\"Monday\", \"Tuesday\", \"Wednesday\", \"Thursday\", \"Friday\", \"Saturday\", \"Sunday\"]\n",
    "#create a tuple for days.\n",
    "My_Daystuple = (\"Monday\", \"Tuesday\", \"Wednesday\", \"Thursday\", \"Friday\", \"Saturday\", \"Sunday\")\n",
    "#create a set for days.\n",
    "My_Daysset = {\"Monday\", \"Tuesday\", \"Wednesday\", \"Thursday\", \"Friday\", \"Saturday\", \"Sunday\"}\n",
    "#create a dictionary for days.\n",
    "My_Daysdict = {\"Monday\":1, \"Tuesday\":2, \"Wednesday\":3, \"Thursday\":4, \"Friday\":5, \"Saturday\":6, \"Sunday\":7}\n",
    "#print the type of the My_Dayslist\n",
    "print (\"My Dayslist: \", type(My_Dayslist))\n",
    "#print the items in the particular list with newline seperator and without brackets\n",
    "print (*My_Dayslist, sep='\\n')\n",
    "\n",
    "#print the type of the My_Daystuple\n",
    "print (\"My Daystuple: \",type(My_Daystuple))\n",
    "#print the items in the particular tuple with newline seperator and without brackets\n",
    "print (*My_Daystuple, sep='\\n')\n",
    "\n",
    "#print the type of the My_Daysset\n",
    "print (\"My Daysset: \",type(My_Daysset))\n",
    "#print the items in the particular set with newline seperator and without brackets\n",
    "print (*My_Daysset, sep='\\n')\n",
    "\n",
    "#print the type of the My_Daysdictionary\n",
    "print (\"My Daysdict: \",type(My_Daysdict))\n",
    "#print the items in the particular dictionary with newline seperator and without brackets\n",
    "print (*My_Daysdict, sep='\\n')\n"
   ]
  },
  {
   "cell_type": "code",
   "execution_count": null,
   "metadata": {},
   "outputs": [],
   "source": []
  }
 ],
 "metadata": {
  "kernelspec": {
   "display_name": "Python 3",
   "language": "python",
   "name": "python3"
  },
  "language_info": {
   "codemirror_mode": {
    "name": "ipython",
    "version": 3
   },
   "file_extension": ".py",
   "mimetype": "text/x-python",
   "name": "python",
   "nbconvert_exporter": "python",
   "pygments_lexer": "ipython3",
   "version": "3.6.10"
  }
 },
 "nbformat": 4,
 "nbformat_minor": 4
}
