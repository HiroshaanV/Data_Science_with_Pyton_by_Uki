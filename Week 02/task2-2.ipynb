{
 "cells": [
  {
   "cell_type": "code",
   "execution_count": 23,
   "metadata": {},
   "outputs": [
    {
     "name": "stdout",
     "output_type": "stream",
     "text": [
      "Please input a nonnegative integer? -5\n",
      "Please enter a nonnegative integer\n"
     ]
    }
   ],
   "source": [
    "def recursive_factorial(n): # define the factorial function\n",
    "   if n == 1:\n",
    "       return n\n",
    "   else:\n",
    "       return n*recursive_factorial(n-1)\n",
    "\n",
    "fact=int(input(\"Please input a nonnegative integer? \")) # Get the input from user for factorial calculation\n",
    "\n",
    "# check if the number is negative or zero or positive\n",
    "if fact < 0:\n",
    "   print(\"Please enter a nonnegative integer\")\n",
    "elif fact == 0:\n",
    "   print(\"Factorial of 0 : 1\")\n",
    "else:\n",
    "   print(\"Factorial of\", fact, \":\", recursive_factorial(fact))"
   ]
  },
  {
   "cell_type": "code",
   "execution_count": null,
   "metadata": {},
   "outputs": [],
   "source": []
  }
 ],
 "metadata": {
  "kernelspec": {
   "display_name": "Python 3",
   "language": "python",
   "name": "python3"
  },
  "language_info": {
   "codemirror_mode": {
    "name": "ipython",
    "version": 3
   },
   "file_extension": ".py",
   "mimetype": "text/x-python",
   "name": "python",
   "nbconvert_exporter": "python",
   "pygments_lexer": "ipython3",
   "version": "3.6.10"
  }
 },
 "nbformat": 4,
 "nbformat_minor": 4
}
