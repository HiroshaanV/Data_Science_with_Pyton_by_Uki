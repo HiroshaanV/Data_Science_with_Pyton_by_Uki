{
 "cells": [
  {
   "cell_type": "code",
   "execution_count": 15,
   "metadata": {},
   "outputs": [
    {
     "name": "stdout",
     "output_type": "stream",
     "text": [
      "Please input your email address : dfgfhfghfghf\n",
      "Not a valid Email\n"
     ]
    }
   ],
   "source": [
    "import re \n",
    "regex = '^[a-zA-Z0-9]+[\\._]?[a-z0-9]+[@]\\w+[.]\\w{2,3}$' #Regular expression functions\n",
    " \n",
    "def check(email):  # define the function for checking the email\n",
    "    if(re.search(regex,email)):\n",
    "        user = email.split('@')[0] # split the email before @ symbol\n",
    "        host = email.split('@')[1] # split the email after @ symbol\n",
    "        print(\"Email : \" + email ,\",  \" \"Username :\", user,\",  \" \"host :\", host )  # print the email, host & domain name    \n",
    "    else:  \n",
    "        print(\"Not a valid Email\")  \n",
    "\n",
    "email = input(\"Please input your email address : \")\n",
    "check(email)"
   ]
  },
  {
   "cell_type": "code",
   "execution_count": null,
   "metadata": {},
   "outputs": [],
   "source": []
  }
 ],
 "metadata": {
  "kernelspec": {
   "display_name": "Python 3",
   "language": "python",
   "name": "python3"
  },
  "language_info": {
   "codemirror_mode": {
    "name": "ipython",
    "version": 3
   },
   "file_extension": ".py",
   "mimetype": "text/x-python",
   "name": "python",
   "nbconvert_exporter": "python",
   "pygments_lexer": "ipython3",
   "version": "3.6.10"
  }
 },
 "nbformat": 4,
 "nbformat_minor": 4
}
