{
 "cells": [
  {
   "cell_type": "code",
   "execution_count": 9,
   "metadata": {},
   "outputs": [
    {
     "name": "stdout",
     "output_type": "stream",
     "text": [
      "Please input a nonnegative integer? -5\n",
      "Please enter a nonnegative integer\n"
     ]
    }
   ],
   "source": [
    "n=int(input(\"Please input a nonnegative integer? \")) # Get the input from user for factorial calculation\n",
    "fact=1 # define the variable\n",
    "if n<0: # Check if the number is negative\n",
    "    print(\"Please enter a nonnegative integer\") \n",
    "else:\n",
    "    for i in range(1,n+1):\n",
    "        fact=fact*i # Factorial calculation\n",
    "    print(\"factorial of\", n, \":\", fact) # print the final value"
   ]
  },
  {
   "cell_type": "code",
   "execution_count": null,
   "metadata": {},
   "outputs": [],
   "source": []
  }
 ],
 "metadata": {
  "kernelspec": {
   "display_name": "Python 3",
   "language": "python",
   "name": "python3"
  },
  "language_info": {
   "codemirror_mode": {
    "name": "ipython",
    "version": 3
   },
   "file_extension": ".py",
   "mimetype": "text/x-python",
   "name": "python",
   "nbconvert_exporter": "python",
   "pygments_lexer": "ipython3",
   "version": "3.6.10"
  }
 },
 "nbformat": 4,
 "nbformat_minor": 4
}
