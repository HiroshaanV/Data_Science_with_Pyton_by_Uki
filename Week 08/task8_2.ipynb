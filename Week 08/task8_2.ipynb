{
 "cells": [
  {
   "cell_type": "code",
   "execution_count": 5,
   "metadata": {},
   "outputs": [
    {
     "name": "stdout",
     "output_type": "stream",
     "text": [
      "before TSNE: (158, 983)\n",
      "accuracy: 17.088607594936708\n",
      "after TSNE: (158, 2)\n"
     ]
    },
    {
     "data": {
      "image/png": "[encoded data removed]",
      "text/plain": [
       "<Figure size 432x288 with 1 Axes>"
      ]
     },
     "metadata": {
      "needs_background": "light"
     },
     "output_type": "display_data"
    }
   ],
   "source": [
    "import sys\n",
    "import re\n",
    "import numpy as np\n",
    "\n",
    "import csv\n",
    "import matplotlib.pyplot as plt\n",
    "import os\n",
    "from sklearn.feature_extraction.text import CountVectorizer\n",
    "from sklearn.model_selection import cross_validate \n",
    "import os\n",
    "from sklearn.cluster import KMeans\n",
    "from sklearn.manifold import TSNE\n",
    "from sklearn.model_selection import train_test_split\n",
    "from sklearn import metrics\n",
    "from sklearn.metrics import accuracy_score\n",
    "\n",
    "#minimum lenght of a dns name\n",
    "MIN_LEN=10\n",
    "\n",
    "random_state = 170\n",
    "\n",
    "def load_alexa(filename):\n",
    "    domain_list=[]\n",
    "    csv_reader = csv.reader(open(filename))\n",
    "    for row in csv_reader:\n",
    "        domain=row[1]\n",
    "        #print(domain)\n",
    "        if len(domain) >= MIN_LEN:\n",
    "            domain_list.append(domain)\n",
    "    return domain_list\n",
    "\n",
    "def domain2ver(domain):\n",
    "    ver=[]\n",
    "    for i in range(0,len(domain)):\n",
    "        ver.append([ord(domain[i])])\n",
    "    return ver\n",
    "\n",
    "\n",
    "def load_dga(filename):\n",
    "    domain_list=[]\n",
    "    with open(filename) as f:\n",
    "        for line in f:\n",
    "            domain=line.split(\",\")[0]\n",
    "            if len(domain) >= MIN_LEN:\n",
    "                domain_list.append(domain)\n",
    "    return domain_list\n",
    "\n",
    "\n",
    "#load dns data\n",
    "x1_domain_list = load_alexa(\"./dga/top-100.csv\")\n",
    "x2_domain_list = load_dga(\"./dga/dga-cryptolocke-50.txt\")\n",
    "x3_domain_list = load_dga(\"./dga/dga-post-tovar-goz-50.txt\")\n",
    "\n",
    "x_domain_list=np.concatenate((x1_domain_list, x2_domain_list,x3_domain_list))\n",
    "\n",
    "y1=[0]*len(x1_domain_list)\n",
    "y2=[1]*len(x2_domain_list)\n",
    "y3=[1]*len(x3_domain_list)\n",
    "\n",
    "y=np.concatenate((y1, y2,y3))\n",
    "\n",
    "cv = CountVectorizer(ngram_range=(2, 2), decode_error=\"ignore\",\n",
    "                                      token_pattern=r\"\\w\", min_df=1)\n",
    "x= cv.fit_transform(x_domain_list).toarray()\n",
    "\n",
    "# apply KMeans and TSNE \n",
    "k_means = KMeans(n_clusters = 2, random_state=170)\n",
    "k_means.fit(x)\n",
    "y_pred = k_means.fit_predict(x)\n",
    "#print(x.shape)\n",
    "\n",
    "k_means_labels = k_means.labels_\n",
    "#print(k_means_labels)\n",
    "\n",
    "k_means_cluster_centers = k_means.cluster_centers_\n",
    "#print(k_means_cluster_centers)\n",
    "\n",
    "#reduce dimensionality to 2 to visualize the clusters found\n",
    "tsne = TSNE(learning_rate=100, random_state=170)\n",
    "tsne.fit(x)\n",
    "tsne_data = tsne.fit_transform(x)\n",
    "\n",
    "#print the data shape before and after TSNE\n",
    "print('before TSNE:',x.shape)\n",
    "acc = np.mean(y_pred == y)*100\n",
    "print('accuracy:',acc)\n",
    "print('after TSNE:',tsne_data.shape)\n",
    "\n",
    "#cluster visualization\n",
    "for i,label in enumerate(tsne_data):\n",
    "    x1,x2=tsne_data[i]\n",
    "    if y_pred[i] == 1:\n",
    "        plt.scatter(x1,x2,marker='x', color='r')\n",
    "    else:\n",
    "        plt.scatter(x1, x2,marker='o', color='b')\n",
    "plt.title('DGA clustering found by KMeans')\n",
    "plt.show()"
   ]
  }
 ],
 "metadata": {
  "kernelspec": {
   "display_name": "Python 3",
   "language": "python",
   "name": "python3"
  },
  "language_info": {
   "codemirror_mode": {
    "name": "ipython",
    "version": 3
   },
   "file_extension": ".py",
   "mimetype": "text/x-python",
   "name": "python",
   "nbconvert_exporter": "python",
   "pygments_lexer": "ipython3",
   "version": "3.6.10"
  }
 },
 "nbformat": 4,
 "nbformat_minor": 4
}
